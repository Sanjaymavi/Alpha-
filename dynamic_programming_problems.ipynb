{
  "cells": [
    {
      "cell_type": "markdown",
      "metadata": {
        "id": "view-in-github",
        "colab_type": "text"
      },
      "source": [
        "<a href=\"https://colab.research.google.com/github/Sanjaymavi/Alpha-/blob/main/dynamic_programming_problems.ipynb\" target=\"_parent\"><img src=\"https://colab.research.google.com/assets/colab-badge.svg\" alt=\"Open In Colab\"/></a>"
      ]
    },
    {
      "cell_type": "code",
      "execution_count": 1,
      "metadata": {
        "colab": {
          "base_uri": "https://localhost:8080/"
        },
        "id": "9jtJJlAbxzt4",
        "outputId": "67b1b004-2de8-4b8b-fe5d-a8643bd8e10d"
      },
      "outputs": [
        {
          "output_type": "stream",
          "name": "stdout",
          "text": [
            "\u001b[?25l\r\u001b[K     |████▊                           | 10 kB 24.4 MB/s eta 0:00:01\r\u001b[K     |█████████▌                      | 20 kB 29.0 MB/s eta 0:00:01\r\u001b[K     |██████████████▎                 | 30 kB 33.0 MB/s eta 0:00:01\r\u001b[K     |███████████████████             | 40 kB 36.6 MB/s eta 0:00:01\r\u001b[K     |███████████████████████▉        | 51 kB 25.7 MB/s eta 0:00:01\r\u001b[K     |████████████████████████████▋   | 61 kB 28.3 MB/s eta 0:00:01\r\u001b[K     |████████████████████████████████| 68 kB 5.9 MB/s \n",
            "\u001b[?25h  Building wheel for uuid (setup.py) ... \u001b[?25l\u001b[?25hdone\n"
          ]
        }
      ],
      "source": [
        "# Jovian Commit Essentials\n",
        "# Please retain and execute this cell without modifying the contents for `jovian.commit` to work\n",
        "!pip install jovian --upgrade -q\n",
        "import jovian\n",
        "jovian.set_project('dynamic-programming-problems')\n",
        "jovian.set_colab_id('1Fa9d_kE_msQV_47_DSdhPJ-hHT1zpEFS')"
      ]
    },
    {
      "cell_type": "markdown",
      "metadata": {
        "id": "qQe9oIExxzuF"
      },
      "source": [
        "## Longest Common Subsequence\n",
        "\n",
        "> **QUESTION 1**: Write a function to find the length of the **longest common subsequence** between two sequences. E.g. Given the strings \"serendipitous\" and \"precipitation\", the longest common subsequence is \"reipito\" and its length is 7.\n",
        ">\n",
        "> A \"sequence\" is a group of items with a deterministic ordering. Lists, tuples and ranges are some common sequence types in Python.\n",
        ">\n",
        "> A \"subsequence\" is a sequence obtained by deleting zero or more elements from another sequence. For example, \"edpt\" is a subsequence of \"serendipitous\".\n",
        "\n",
        "\n",
        "\n",
        "\n",
        "#### General case\n",
        "\n",
        "<img src=\"https://i.imgur.com/ry4Y0wS.png\" width=\"420\">\n",
        "\n",
        "#### Test cases\n",
        "\n",
        "1. General case (string)\n",
        "2. General case (list)\n",
        "3. No common subsequence\n",
        "4. One is a subsequence of the other\n",
        "5. One sequence is empty\n",
        "6. Both sequences are empty\n",
        "7. Multiple subsequences with same length\n",
        "    1. “abcdef” and “badcfe”\n",
        "\n"
      ]
    },
    {
      "cell_type": "markdown",
      "metadata": {
        "id": "vCp3sM4uxzuP"
      },
      "source": [
        "Longest common subsequence test cases:"
      ]
    },
    {
      "cell_type": "code",
      "execution_count": 2,
      "metadata": {
        "id": "N0tqxMymxzuR"
      },
      "outputs": [],
      "source": [
        "T0 = {\n",
        "    'input': {\n",
        "        'seq1': 'serendipitous',\n",
        "        'seq2': 'precipitation'\n",
        "    },\n",
        "    'output': 7\n",
        "}\n",
        "\n",
        "T1 = {\n",
        "    'input': {\n",
        "        'seq1': [1, 3, 5, 6, 7, 2, 5, 2, 3],\n",
        "        'seq2': [6, 2, 4, 7, 1, 5, 6, 2, 3]\n",
        "    },\n",
        "    'output': 5\n",
        "}\n",
        "\n",
        "T2 = {\n",
        "    'input': {\n",
        "        'seq1': 'longest',\n",
        "        'seq2': 'stone'\n",
        "    },\n",
        "    'output': 3\n",
        "}\n",
        "\n",
        "T3 = {\n",
        "    'input': {\n",
        "        'seq1': 'asdfwevad',\n",
        "        'seq2': 'opkpoiklklj'\n",
        "    },\n",
        "    'output': 0\n",
        "}\n",
        "\n",
        "T4 = {\n",
        "    'input': {\n",
        "        'seq1': 'dense',\n",
        "        'seq2': 'condensed'\n",
        "    },\n",
        "    'output': 5\n",
        "}\n",
        "\n",
        "T5 = {\n",
        "    'input': {\n",
        "        'seq1': '',\n",
        "        'seq2': 'opkpoiklklj'\n",
        "    },\n",
        "    'output': 0\n",
        "}\n",
        "\n",
        "T6 = {\n",
        "    'input': {\n",
        "        'seq1': '',\n",
        "        'seq2': ''\n",
        "    },\n",
        "    'output': 0\n",
        "}\n",
        "\n",
        "T7 = {\n",
        "    'input': {\n",
        "        'seq1': 'abcdef',\n",
        "        'seq2': 'badcfe'\n",
        "    },\n",
        "    'output': 3\n",
        "}"
      ]
    },
    {
      "cell_type": "code",
      "execution_count": 3,
      "metadata": {
        "id": "12Qfe-VAxzuZ"
      },
      "outputs": [],
      "source": [
        "lcq_tests = [T0, T1, T2, T3, T4, T5, T6, T7]"
      ]
    },
    {
      "cell_type": "code",
      "execution_count": 3,
      "metadata": {
        "id": "m6BWxVTxxzub"
      },
      "outputs": [],
      "source": [
        ""
      ]
    },
    {
      "cell_type": "code",
      "execution_count": 3,
      "metadata": {
        "id": "DfnbHr8Ixzuc"
      },
      "outputs": [],
      "source": [
        ""
      ]
    },
    {
      "cell_type": "code",
      "execution_count": 3,
      "metadata": {
        "id": "XTNBAKxCxzuf"
      },
      "outputs": [],
      "source": [
        ""
      ]
    },
    {
      "cell_type": "markdown",
      "metadata": {
        "id": "NLUA49QDxzug"
      },
      "source": [
        "#### Recursive Solution\n",
        "\n",
        "\n",
        "1. Create two counters `idx1` and `idx2` starting at 0. Our recursive function will compute the LCS of `seq1[idx1:]` and `seq2[idx2:]`\n",
        "\n",
        "\n",
        "2. If `seq1[idx1]` and `seq2[idx2]` are equal, then this character belongs to the LCS of `seq1[idx1:]` and `seq2[idx2:]` (why?). Further the length this is LCS is one more than LCS of `seq1[idx1+1:]` and  `seq2[idx2+1:]`\n",
        "\n",
        "<img src=\"https://i.imgur.com/um7LDiX.png\" width=\"400\">\n",
        "\n",
        "3. If not, then the LCS of `seq1[idx1:]` and `seq2[idx2:]` is the longer one among the LCS of `seq1[idx1+1:], seq2[idx2:]` and the LCS of `seq1[idx1:]`, `seq2[idx2+1:]`\n",
        "\n",
        "<img src=\"https://i.imgur.com/DRanmOy.png\" width=\"360\">\n",
        "\n",
        "5. If either `seq1[idx1:]` or `seq2[idx2:]` is empty, then their LCS is empty.\n",
        "\n",
        "\n",
        "\n",
        "Here's what the tree of recursive calls looks like:\n",
        "\n",
        "\n",
        "![](https://i.imgur.com/JJrq3KH.png)\n",
        "\n",
        "\n",
        "\n"
      ]
    },
    {
      "cell_type": "markdown",
      "metadata": {
        "id": "QKG0SDlmxzuj"
      },
      "source": [
        "#### Complexity Analysis\n",
        "\n",
        "Worst case occurs when each time we have to try 2 subproblems i.e. when the sequences have no common elements.\n",
        "\n",
        "<img src=\"https://i.imgur.com/z5m36m8.png\" width=\"360\">\n",
        "\n",
        "Here's what the tree looks like in such a case (source - Techie Delight):\n",
        "\n",
        "<img src=\"https://i.imgur.com/n8ZgBYj.png\" width=\"500\">\n",
        "\n",
        "All the leaf nodes are `(0, 0)`. Can you count the number of leaf nodes?\n",
        "\n",
        "*HINT*: Count the number of unique paths from root to leaf. The length of each path is `m+n` and at each level there are 2 choices. \n",
        "\n",
        "Based on the above can you infer that the time complexity is $O(2^{m+n})$.\n",
        "\n",
        "\n",
        "\n",
        "\n",
        "\n",
        "\n",
        "\n"
      ]
    },
    {
      "cell_type": "markdown",
      "metadata": {
        "id": "RJjVPs7hxzul"
      },
      "source": [
        "### Dynamic programming\n",
        "\n",
        "1. Create a table of size `(n1+1) * (n2+1)` initialized with 0s, where `n1` and `n2` are the lengths of the sequences. `table[i][j]` represents the longest common subsequence of `seq1[:i]` and `seq2[:j]`. Here's what the table looks like (source: Kevin Mavani, Medium).\n",
        "\n",
        "\n",
        "<img src=\"https://i.imgur.com/SAsEol6.png\">\n",
        "\n",
        "\n",
        "\n",
        "2. If `seq1[i]` and `seq2[j]` are equal, then `table[i+1][j+1] = 1 + table[i][j]` \n",
        "\n",
        "3. If `seq1[i]` and `seq2[j]` are equal, then `table[i+1][j+1] = max(table[i][j+1], table[i+1][j])`\n",
        "\n",
        "\n",
        "Verify that the complexity of the dynamic programming approach is $O(N1 * N2)$."
      ]
    },
    {
      "cell_type": "code",
      "execution_count": 3,
      "metadata": {
        "id": "HYizQ7SFxzuq"
      },
      "outputs": [],
      "source": [
        ""
      ]
    },
    {
      "cell_type": "code",
      "execution_count": 3,
      "metadata": {
        "id": "mTVqNDcHxzur"
      },
      "outputs": [],
      "source": [
        ""
      ]
    },
    {
      "cell_type": "code",
      "execution_count": 3,
      "metadata": {
        "id": "B584FuGuxzus"
      },
      "outputs": [],
      "source": [
        ""
      ]
    },
    {
      "cell_type": "code",
      "execution_count": 3,
      "metadata": {
        "id": "Ki4inFAoxzut"
      },
      "outputs": [],
      "source": [
        ""
      ]
    },
    {
      "cell_type": "code",
      "execution_count": 3,
      "metadata": {
        "id": "cCXTp71Gxzuu"
      },
      "outputs": [],
      "source": [
        ""
      ]
    },
    {
      "cell_type": "markdown",
      "metadata": {
        "id": "vMGL_x-uxzuv"
      },
      "source": [
        "## 0-1 Knapsack Problem\n",
        "\n",
        "#### Problem statement\n",
        "\n",
        "> You’re in charge of selecting a football (soccer) team from a large pool of players. Each player has a cost, and a rating. You have a limited budget. What is the highest total rating of a team that fits within your budget. Assume that there’s no minimum or maximum team size.\n",
        "\n",
        "\n",
        "\n",
        "General problem statemnt:\n",
        "\n",
        "> Given n elements, each of which has a weight and a profit, determine the maximum profit that can be obtained by selecting a subset of the elements weighing no more than w.\n",
        "\n",
        "<img src=\"https://i.imgur.com/4O919vu.png\" width=\"400\">\n",
        "\n",
        "\n",
        "Test cases:\n",
        "\n",
        "1. Some generic test cases\n",
        "2. All the elements can be included\n",
        "3. None of the elements can be included\n",
        "4. Only one of the elements can be included\n",
        "5. ???\n",
        "\n",
        "\n"
      ]
    },
    {
      "cell_type": "markdown",
      "metadata": {
        "id": "0XHj06sMxzux"
      },
      "source": [
        "Knapsack test cases:"
      ]
    },
    {
      "cell_type": "code",
      "execution_count": 4,
      "metadata": {
        "id": "lKCkw_P9xzuz"
      },
      "outputs": [],
      "source": [
        "test0 = {\n",
        "    'input': {\n",
        "        'capacity': 165,\n",
        "        'weights': [23, 31, 29, 44, 53, 38, 63, 85, 89, 82],\n",
        "        'profits': [92, 57, 49, 68, 60, 43, 67, 84, 87, 72]\n",
        "    },\n",
        "    'output': 309\n",
        "}\n",
        "\n",
        "test1 = {\n",
        "    'input': {\n",
        "        'capacity': 3,\n",
        "        'weights': [4, 5, 6],\n",
        "        'profits': [1, 2, 3]\n",
        "    },\n",
        "    'output': 0\n",
        "}\n",
        "\n",
        "test2 = {\n",
        "    'input': {\n",
        "        'capacity': 4,\n",
        "        'weights': [4, 5, 1],\n",
        "        'profits': [1, 2, 3]\n",
        "    },\n",
        "    'output': 3\n",
        "}\n",
        "\n",
        "test3 = {\n",
        "    'input': {\n",
        "        'capacity': 170,\n",
        "        'weights': [41, 50, 49, 59, 55, 57, 60],\n",
        "        'profits': [442, 525, 511, 593, 546, 564, 617]\n",
        "    },\n",
        "    'output': 1735\n",
        "}\n",
        "\n",
        "test4 = {\n",
        "    'input': {\n",
        "        'capacity': 15,\n",
        "        'weights': [4, 5, 6],\n",
        "        'profits': [1, 2, 3]\n",
        "    },\n",
        "    'output': 6\n",
        "}\n",
        "\n",
        "test5 = {\n",
        "    'input': {\n",
        "        'capacity': 15,\n",
        "        'weights': [4, 5, 1, 3, 2, 5],\n",
        "        'profits': [2, 3, 1, 5, 4, 7]\n",
        "    },\n",
        "    'output': 19\n",
        "}"
      ]
    },
    {
      "cell_type": "code",
      "execution_count": 5,
      "metadata": {
        "id": "91w57w_jxzu3"
      },
      "outputs": [],
      "source": [
        "tests = [test0, test1, test2, test3, test4, test5]"
      ]
    },
    {
      "cell_type": "code",
      "execution_count": 5,
      "metadata": {
        "id": "6TBh-DQ-xzu6"
      },
      "outputs": [],
      "source": [
        ""
      ]
    },
    {
      "cell_type": "markdown",
      "metadata": {
        "id": "0mD2r_owxzu7"
      },
      "source": [
        "#### Recursion\n",
        "\n",
        "<img src=\"https://i.imgur.com/eaJzv02.png\" width=\"400\">\n",
        "\n",
        "1. We'll write a recursive function that computes `max_profit(weights[idx:], profits[idx:], capacity)`, with `idx` starting from 0.\n",
        "\n",
        "\n",
        "2. If `weights[idx] > capacity`, the current element is cannot be selected, so the maximum profit is the same as `max_profit(weights[idx+1:], profits[idx+1:], capacity)`.\n",
        "\n",
        "\n",
        "3. Otherwise, there are two possibilities: we either pick `weights[idx]` or don't. We can recursively compute the maximum\n",
        "\n",
        "    A. If we don't pick `weights[idx]`, once again the maximum profit for this case is `max_profit(weights[idx+1:], profits[idx+1:], capacity)`\n",
        "\n",
        "    B. If we pick `weights[idx]`, the maximum profit for this case is `profits[idx] + max_profit(weights[idx+1:], profits[idx+1:], capacity - weights[idx]`\n",
        "\n",
        "\n",
        "4. If `weights[idx:]` is empty, the maximum profit for this case is 0.\n",
        "\n",
        "\n",
        "\n",
        "\n",
        "\n",
        "Here's a visualization of the recursion tree:\n",
        "\n",
        "<img src=\"https://i.imgur.com/WsKTC6I.png\" width=\"640\">\n",
        "\n",
        "\n",
        "Verify that the time complexity of the recursive algorithm is $O(2^N)$\n"
      ]
    },
    {
      "cell_type": "markdown",
      "metadata": {
        "id": "ikUo0353xzu8"
      },
      "source": [
        "#### Dynamic Programming\n",
        "\n",
        "1. Create a table of size `(n+1) * (capacity+1)` consisting of all 0s, where is `n` is the number of elements. `table[i][c]` represents the maximum profit that can be obtained using the first `i` elements if the maximum capacity is `c`. Here's a visual representation of a filled table (source - geeksforgeeks):\n",
        "\n",
        "<img src=\"https://i2.wp.com/techieme.in/wp-content/uploads/01knapsack.png?w=1213\" width=\"640\">\n",
        "\n",
        "(The 0th row will contain all zeros and is not shown above.)\n",
        "\n",
        "2. We'll fill the table row by row and column by column. `table[i][c]` can be filled using some values in the row above it.\n",
        "\n",
        "3. If `weights[i] > c` i.e. if the current element can is larger than capacity, then `table[i+1][c]` is simply equal to `table[i][c]` (since there's no way we can pick this element).\n",
        "\n",
        "4. If `weights[i] <= c` then we have two choices: to either pick the current element or not to get the value of `table[i+1][c]`. We can compare the maximum profit for both these options and pick the better one as the value of `table[i][c]`.\n",
        "\n",
        "    A. If we don't pick  the element with weight `weights[i]`, then once again the maximum profit is `table[i][c]`\n",
        "    \n",
        "    B. If we pick the element with weight `weights[i]`, then the maximum profit is `profits[i] + table[i][c-weights[i]]`, since we have used up some capacity.\n",
        "    \n",
        "\n",
        "\n",
        "Verify that the complexity of the dynamic programming solution is $O(N * W)$."
      ]
    },
    {
      "cell_type": "code",
      "execution_count": 5,
      "metadata": {
        "id": "Y3OzVjcdxzu9"
      },
      "outputs": [],
      "source": [
        ""
      ]
    },
    {
      "cell_type": "code",
      "execution_count": 5,
      "metadata": {
        "id": "ucN_UqJBxzu-"
      },
      "outputs": [],
      "source": [
        ""
      ]
    },
    {
      "cell_type": "code",
      "execution_count": 5,
      "metadata": {
        "id": "E0Xk0Ql2xzu-"
      },
      "outputs": [],
      "source": [
        ""
      ]
    },
    {
      "cell_type": "code",
      "execution_count": 5,
      "metadata": {
        "id": "qyq0yw7Rxzu_"
      },
      "outputs": [],
      "source": [
        ""
      ]
    },
    {
      "cell_type": "code",
      "execution_count": 5,
      "metadata": {
        "id": "Q1MujzfQxzvA"
      },
      "outputs": [],
      "source": [
        ""
      ]
    },
    {
      "cell_type": "markdown",
      "metadata": {
        "id": "_wEWP3aPxzvB"
      },
      "source": [
        "Longest common subsequence:"
      ]
    },
    {
      "cell_type": "code",
      "execution_count": 6,
      "metadata": {
        "id": "LZYwrK9JxzvB"
      },
      "outputs": [],
      "source": [
        "def lcq_recursive(seq1, seq2, idx1=0, idx2=0):\n",
        "    # Check if either of the sequences is exhausted\n",
        "    if idx1 == len(seq1) or idx2 == len(seq2):\n",
        "        return 0\n",
        "    \n",
        "    # Check if the current characters are equal\n",
        "    if seq1[idx1] == seq2[idx2]:\n",
        "        return 1 + lcq_recursive(seq1, seq2, idx1+1, idx2+1)\n",
        "    # Skip one element from each sequence\n",
        "    else:\n",
        "        return max(lcq_recursive(seq1, seq2, idx1+1, idx2), \n",
        "                   lcq_recursive(seq1, seq2, idx1, idx2+1))    "
      ]
    },
    {
      "cell_type": "code",
      "execution_count": 7,
      "metadata": {
        "id": "knn81JssxzvC"
      },
      "outputs": [],
      "source": [
        "from jovian.pythondsa import evaluate_test_cases"
      ]
    },
    {
      "cell_type": "code",
      "execution_count": 8,
      "metadata": {
        "colab": {
          "base_uri": "https://localhost:8080/"
        },
        "id": "RqnlqWrbxzvD",
        "outputId": "52d6fdb2-4f54-4144-ecc3-142a99995392"
      },
      "outputs": [
        {
          "output_type": "stream",
          "name": "stdout",
          "text": [
            "\n",
            "\u001b[1mTEST CASE #0\u001b[0m\n",
            "\n",
            "Input:\n",
            "{'seq1': 'serendipitous', 'seq2': 'precipitation'}\n",
            "\n",
            "Expected Output:\n",
            "7\n",
            "\n",
            "\n",
            "Actual Output:\n",
            "7\n",
            "\n",
            "Execution Time:\n",
            "480.412 ms\n",
            "\n",
            "Test Result:\n",
            "\u001b[92mPASSED\u001b[0m\n",
            "\n",
            "\n",
            "\u001b[1mTEST CASE #1\u001b[0m\n",
            "\n",
            "Input:\n",
            "{'seq1': [1, 3, 5, 6, 7, 2, 5, 2, 3], 'seq2': [6, 2, 4, 7, 1, 5, 6, 2, 3]}\n",
            "\n",
            "Expected Output:\n",
            "5\n",
            "\n",
            "\n",
            "Actual Output:\n",
            "5\n",
            "\n",
            "Execution Time:\n",
            "6.8 ms\n",
            "\n",
            "Test Result:\n",
            "\u001b[92mPASSED\u001b[0m\n",
            "\n",
            "\n",
            "\u001b[1mTEST CASE #2\u001b[0m\n",
            "\n",
            "Input:\n",
            "{'seq1': 'longest', 'seq2': 'stone'}\n",
            "\n",
            "Expected Output:\n",
            "3\n",
            "\n",
            "\n",
            "Actual Output:\n",
            "3\n",
            "\n",
            "Execution Time:\n",
            "0.296 ms\n",
            "\n",
            "Test Result:\n",
            "\u001b[92mPASSED\u001b[0m\n",
            "\n",
            "\n",
            "\u001b[1mTEST CASE #3\u001b[0m\n",
            "\n",
            "Input:\n",
            "{'seq1': 'asdfwevad', 'seq2': 'opkpoiklklj'}\n",
            "\n",
            "Expected Output:\n",
            "0\n",
            "\n",
            "\n",
            "Actual Output:\n",
            "0\n",
            "\n",
            "Execution Time:\n",
            "127.464 ms\n",
            "\n",
            "Test Result:\n",
            "\u001b[92mPASSED\u001b[0m\n",
            "\n",
            "\n",
            "\u001b[1mTEST CASE #4\u001b[0m\n",
            "\n",
            "Input:\n",
            "{'seq1': 'dense', 'seq2': 'condensed'}\n",
            "\n",
            "Expected Output:\n",
            "5\n",
            "\n",
            "\n",
            "Actual Output:\n",
            "5\n",
            "\n",
            "Execution Time:\n",
            "0.159 ms\n",
            "\n",
            "Test Result:\n",
            "\u001b[92mPASSED\u001b[0m\n",
            "\n",
            "\n",
            "\u001b[1mTEST CASE #5\u001b[0m\n",
            "\n",
            "Input:\n",
            "{'seq1': '', 'seq2': 'opkpoiklklj'}\n",
            "\n",
            "Expected Output:\n",
            "0\n",
            "\n",
            "\n",
            "Actual Output:\n",
            "0\n",
            "\n",
            "Execution Time:\n",
            "0.002 ms\n",
            "\n",
            "Test Result:\n",
            "\u001b[92mPASSED\u001b[0m\n",
            "\n",
            "\n",
            "\u001b[1mTEST CASE #6\u001b[0m\n",
            "\n",
            "Input:\n",
            "{'seq1': '', 'seq2': ''}\n",
            "\n",
            "Expected Output:\n",
            "0\n",
            "\n",
            "\n",
            "Actual Output:\n",
            "0\n",
            "\n",
            "Execution Time:\n",
            "0.002 ms\n",
            "\n",
            "Test Result:\n",
            "\u001b[92mPASSED\u001b[0m\n",
            "\n",
            "\n",
            "\u001b[1mTEST CASE #7\u001b[0m\n",
            "\n",
            "Input:\n",
            "{'seq1': 'abcdef', 'seq2': 'badcfe'}\n",
            "\n",
            "Expected Output:\n",
            "3\n",
            "\n",
            "\n",
            "Actual Output:\n",
            "3\n",
            "\n",
            "Execution Time:\n",
            "0.055 ms\n",
            "\n",
            "Test Result:\n",
            "\u001b[92mPASSED\u001b[0m\n",
            "\n",
            "\n",
            "\u001b[1mSUMMARY\u001b[0m\n",
            "\n",
            "TOTAL: 8, \u001b[92mPASSED\u001b[0m: 8, \u001b[91mFAILED\u001b[0m: 0\n"
          ]
        },
        {
          "output_type": "execute_result",
          "data": {
            "text/plain": [
              "[(7, True, 480.412),\n",
              " (5, True, 6.8),\n",
              " (3, True, 0.296),\n",
              " (0, True, 127.464),\n",
              " (5, True, 0.159),\n",
              " (0, True, 0.002),\n",
              " (0, True, 0.002),\n",
              " (3, True, 0.055)]"
            ]
          },
          "metadata": {},
          "execution_count": 8
        }
      ],
      "source": [
        "evaluate_test_cases(lcq_recursive, lcq_tests)"
      ]
    },
    {
      "cell_type": "code",
      "execution_count": 9,
      "metadata": {
        "colab": {
          "base_uri": "https://localhost:8080/"
        },
        "id": "nHm_lofXxzvG",
        "outputId": "e82c9c8a-a53f-43b6-9ada-3086f67ca462"
      },
      "outputs": [
        {
          "output_type": "stream",
          "name": "stdout",
          "text": [
            "CPU times: user 215 ms, sys: 0 ns, total: 215 ms\n",
            "Wall time: 214 ms\n"
          ]
        },
        {
          "output_type": "execute_result",
          "data": {
            "text/plain": [
              "7"
            ]
          },
          "metadata": {},
          "execution_count": 9
        }
      ],
      "source": [
        "%%time\n",
        "lcq_recursive('seredipitous', 'precipitation')"
      ]
    },
    {
      "cell_type": "code",
      "execution_count": 10,
      "metadata": {
        "colab": {
          "base_uri": "https://localhost:8080/"
        },
        "id": "Ng3dT1A4xzvI",
        "outputId": "0da229e3-8ecb-479d-c60f-08a676235e8b"
      },
      "outputs": [
        {
          "output_type": "stream",
          "name": "stdout",
          "text": [
            "CPU times: user 4.4 s, sys: 9.29 ms, total: 4.41 s\n",
            "Wall time: 4.47 s\n"
          ]
        },
        {
          "output_type": "execute_result",
          "data": {
            "text/plain": [
              "0"
            ]
          },
          "metadata": {},
          "execution_count": 10
        }
      ],
      "source": [
        "%%time\n",
        "lcq_recursive('Asdfsfafssess', 'oypiououuiuo')"
      ]
    },
    {
      "cell_type": "code",
      "execution_count": 11,
      "metadata": {
        "id": "pWrKFiHzxzvL"
      },
      "outputs": [],
      "source": [
        "def lcq_memoized(seq1, seq2):\n",
        "    memo = {}\n",
        "    \n",
        "    def recurse(idx1, idx2):\n",
        "        key = idx1, idx2\n",
        "        \n",
        "        if key in memo:\n",
        "            return memo[key]\n",
        "        \n",
        "        if idx1 == len(seq1) or idx2 == len(seq2):\n",
        "            memo[key] = 0\n",
        "        elif seq1[idx1] == seq2[idx2]:\n",
        "            memo[key] = 1 + recurse(idx1+1, idx2+1)\n",
        "        else:\n",
        "            memo[key] = max(recurse(idx1+1, idx2), \n",
        "                            recurse(idx1, idx2+1))\n",
        "        return memo[key]\n",
        "        \n",
        "    return recurse(0, 0)"
      ]
    },
    {
      "cell_type": "code",
      "execution_count": 12,
      "metadata": {
        "colab": {
          "base_uri": "https://localhost:8080/"
        },
        "id": "TP1BGTD9xzvN",
        "outputId": "59458ab4-ba79-413a-a628-a5f5e7c1123b"
      },
      "outputs": [
        {
          "output_type": "stream",
          "name": "stdout",
          "text": [
            "\n",
            "\u001b[1mTEST CASE #0\u001b[0m\n",
            "\n",
            "Input:\n",
            "{'seq1': 'serendipitous', 'seq2': 'precipitation'}\n",
            "\n",
            "Expected Output:\n",
            "7\n",
            "\n",
            "\n",
            "Actual Output:\n",
            "7\n",
            "\n",
            "Execution Time:\n",
            "0.321 ms\n",
            "\n",
            "Test Result:\n",
            "\u001b[92mPASSED\u001b[0m\n",
            "\n",
            "\n",
            "\u001b[1mTEST CASE #1\u001b[0m\n",
            "\n",
            "Input:\n",
            "{'seq1': [1, 3, 5, 6, 7, 2, 5, 2, 3], 'seq2': [6, 2, 4, 7, 1, 5, 6, 2, 3]}\n",
            "\n",
            "Expected Output:\n",
            "5\n",
            "\n",
            "\n",
            "Actual Output:\n",
            "5\n",
            "\n",
            "Execution Time:\n",
            "0.139 ms\n",
            "\n",
            "Test Result:\n",
            "\u001b[92mPASSED\u001b[0m\n",
            "\n",
            "\n",
            "\u001b[1mTEST CASE #2\u001b[0m\n",
            "\n",
            "Input:\n",
            "{'seq1': 'longest', 'seq2': 'stone'}\n",
            "\n",
            "Expected Output:\n",
            "3\n",
            "\n",
            "\n",
            "Actual Output:\n",
            "3\n",
            "\n",
            "Execution Time:\n",
            "0.07 ms\n",
            "\n",
            "Test Result:\n",
            "\u001b[92mPASSED\u001b[0m\n",
            "\n",
            "\n",
            "\u001b[1mTEST CASE #3\u001b[0m\n",
            "\n",
            "Input:\n",
            "{'seq1': 'asdfwevad', 'seq2': 'opkpoiklklj'}\n",
            "\n",
            "Expected Output:\n",
            "0\n",
            "\n",
            "\n",
            "Actual Output:\n",
            "0\n",
            "\n",
            "Execution Time:\n",
            "0.119 ms\n",
            "\n",
            "Test Result:\n",
            "\u001b[92mPASSED\u001b[0m\n",
            "\n",
            "\n",
            "\u001b[1mTEST CASE #4\u001b[0m\n",
            "\n",
            "Input:\n",
            "{'seq1': 'dense', 'seq2': 'condensed'}\n",
            "\n",
            "Expected Output:\n",
            "5\n",
            "\n",
            "\n",
            "Actual Output:\n",
            "5\n",
            "\n",
            "Execution Time:\n",
            "0.038 ms\n",
            "\n",
            "Test Result:\n",
            "\u001b[92mPASSED\u001b[0m\n",
            "\n",
            "\n",
            "\u001b[1mTEST CASE #5\u001b[0m\n",
            "\n",
            "Input:\n",
            "{'seq1': '', 'seq2': 'opkpoiklklj'}\n",
            "\n",
            "Expected Output:\n",
            "0\n",
            "\n",
            "\n",
            "Actual Output:\n",
            "0\n",
            "\n",
            "Execution Time:\n",
            "0.004 ms\n",
            "\n",
            "Test Result:\n",
            "\u001b[92mPASSED\u001b[0m\n",
            "\n",
            "\n",
            "\u001b[1mTEST CASE #6\u001b[0m\n",
            "\n",
            "Input:\n",
            "{'seq1': '', 'seq2': ''}\n",
            "\n",
            "Expected Output:\n",
            "0\n",
            "\n",
            "\n",
            "Actual Output:\n",
            "0\n",
            "\n",
            "Execution Time:\n",
            "0.004 ms\n",
            "\n",
            "Test Result:\n",
            "\u001b[92mPASSED\u001b[0m\n",
            "\n",
            "\n",
            "\u001b[1mTEST CASE #7\u001b[0m\n",
            "\n",
            "Input:\n",
            "{'seq1': 'abcdef', 'seq2': 'badcfe'}\n",
            "\n",
            "Expected Output:\n",
            "3\n",
            "\n",
            "\n",
            "Actual Output:\n",
            "3\n",
            "\n",
            "Execution Time:\n",
            "0.035 ms\n",
            "\n",
            "Test Result:\n",
            "\u001b[92mPASSED\u001b[0m\n",
            "\n",
            "\n",
            "\u001b[1mSUMMARY\u001b[0m\n",
            "\n",
            "TOTAL: 8, \u001b[92mPASSED\u001b[0m: 8, \u001b[91mFAILED\u001b[0m: 0\n"
          ]
        },
        {
          "output_type": "execute_result",
          "data": {
            "text/plain": [
              "[(7, True, 0.321),\n",
              " (5, True, 0.139),\n",
              " (3, True, 0.07),\n",
              " (0, True, 0.119),\n",
              " (5, True, 0.038),\n",
              " (0, True, 0.004),\n",
              " (0, True, 0.004),\n",
              " (3, True, 0.035)]"
            ]
          },
          "metadata": {},
          "execution_count": 12
        }
      ],
      "source": [
        "evaluate_test_cases(lcq_memoized, lcq_tests)"
      ]
    },
    {
      "cell_type": "code",
      "execution_count": 13,
      "metadata": {
        "colab": {
          "base_uri": "https://localhost:8080/"
        },
        "id": "6VLv07B-xzvO",
        "outputId": "b029272c-e2fc-4528-8bd1-c4f77c9e7ff0"
      },
      "outputs": [
        {
          "output_type": "stream",
          "name": "stdout",
          "text": [
            "CPU times: user 334 µs, sys: 13 µs, total: 347 µs\n",
            "Wall time: 461 µs\n"
          ]
        },
        {
          "output_type": "execute_result",
          "data": {
            "text/plain": [
              "0"
            ]
          },
          "metadata": {},
          "execution_count": 13
        }
      ],
      "source": [
        "%%time\n",
        "lcq_memoized('Asdfsfafssess', 'oypiououuiuo')"
      ]
    },
    {
      "cell_type": "code",
      "execution_count": 14,
      "metadata": {
        "colab": {
          "base_uri": "https://localhost:8080/"
        },
        "id": "c2IZa-wfxzvQ",
        "outputId": "9a43b953-1632-491a-f915-9fb36e99c0b4"
      },
      "outputs": [
        {
          "output_type": "stream",
          "name": "stdout",
          "text": [
            "CPU times: user 0 ns, sys: 274 µs, total: 274 µs\n",
            "Wall time: 282 µs\n"
          ]
        },
        {
          "output_type": "execute_result",
          "data": {
            "text/plain": [
              "7"
            ]
          },
          "metadata": {},
          "execution_count": 14
        }
      ],
      "source": [
        "%%time\n",
        "lcq_memoized('seredipitous', 'precipitation')"
      ]
    },
    {
      "cell_type": "code",
      "execution_count": 15,
      "metadata": {
        "colab": {
          "base_uri": "https://localhost:8080/"
        },
        "id": "qvggIdHUxzvR",
        "outputId": "bf61b731-0e21-42d8-8d99-9723037573cd"
      },
      "outputs": [
        {
          "output_type": "stream",
          "name": "stdout",
          "text": [
            "CPU times: user 127 µs, sys: 0 ns, total: 127 µs\n",
            "Wall time: 134 µs\n"
          ]
        },
        {
          "output_type": "execute_result",
          "data": {
            "text/plain": [
              "3"
            ]
          },
          "metadata": {},
          "execution_count": 15
        }
      ],
      "source": [
        "%%time\n",
        "lcq_memoized('longest', 'stone')"
      ]
    },
    {
      "cell_type": "markdown",
      "metadata": {
        "id": "TCFa4fRkxzvS"
      },
      "source": [
        "Dynamic programming:"
      ]
    },
    {
      "cell_type": "code",
      "execution_count": 16,
      "metadata": {
        "id": "mVjGzaY2xzvT"
      },
      "outputs": [],
      "source": [
        "def lcq_dp(seq1, seq2):\n",
        "    n1, n2 = len(seq1), len(seq2)\n",
        "    results = [[0 for _ in range(n2+1)] for _ in range(n1+1)]\n",
        "    for idx1 in range(n1):\n",
        "        for idx2 in range(n2):\n",
        "            if seq1[idx1] == seq2[idx2]:\n",
        "                results[idx1+1][idx2+1] = 1 + results[idx1][idx2]\n",
        "            else:\n",
        "                results[idx1+1][idx2+1] = max(results[idx1][idx2+1], results[idx1+1][idx2])\n",
        "    return results[-1][-1]"
      ]
    },
    {
      "cell_type": "code",
      "execution_count": 17,
      "metadata": {
        "scrolled": true,
        "colab": {
          "base_uri": "https://localhost:8080/"
        },
        "id": "o6eepD--xzvU",
        "outputId": "640fe3d7-3840-4a7b-c9e6-d0f56b62efb8"
      },
      "outputs": [
        {
          "output_type": "stream",
          "name": "stdout",
          "text": [
            "\n",
            "\u001b[1mTEST CASE #0\u001b[0m\n",
            "\n",
            "Input:\n",
            "{'seq1': 'serendipitous', 'seq2': 'precipitation'}\n",
            "\n",
            "Expected Output:\n",
            "7\n",
            "\n",
            "\n",
            "Actual Output:\n",
            "7\n",
            "\n",
            "Execution Time:\n",
            "0.164 ms\n",
            "\n",
            "Test Result:\n",
            "\u001b[92mPASSED\u001b[0m\n",
            "\n",
            "\n",
            "\u001b[1mTEST CASE #1\u001b[0m\n",
            "\n",
            "Input:\n",
            "{'seq1': [1, 3, 5, 6, 7, 2, 5, 2, 3], 'seq2': [6, 2, 4, 7, 1, 5, 6, 2, 3]}\n",
            "\n",
            "Expected Output:\n",
            "5\n",
            "\n",
            "\n",
            "Actual Output:\n",
            "5\n",
            "\n",
            "Execution Time:\n",
            "0.089 ms\n",
            "\n",
            "Test Result:\n",
            "\u001b[92mPASSED\u001b[0m\n",
            "\n",
            "\n",
            "\u001b[1mTEST CASE #2\u001b[0m\n",
            "\n",
            "Input:\n",
            "{'seq1': 'longest', 'seq2': 'stone'}\n",
            "\n",
            "Expected Output:\n",
            "3\n",
            "\n",
            "\n",
            "Actual Output:\n",
            "3\n",
            "\n",
            "Execution Time:\n",
            "0.044 ms\n",
            "\n",
            "Test Result:\n",
            "\u001b[92mPASSED\u001b[0m\n",
            "\n",
            "\n",
            "\u001b[1mTEST CASE #3\u001b[0m\n",
            "\n",
            "Input:\n",
            "{'seq1': 'asdfwevad', 'seq2': 'opkpoiklklj'}\n",
            "\n",
            "Expected Output:\n",
            "0\n",
            "\n",
            "\n",
            "Actual Output:\n",
            "0\n",
            "\n",
            "Execution Time:\n",
            "0.108 ms\n",
            "\n",
            "Test Result:\n",
            "\u001b[92mPASSED\u001b[0m\n",
            "\n",
            "\n",
            "\u001b[1mTEST CASE #4\u001b[0m\n",
            "\n",
            "Input:\n",
            "{'seq1': 'dense', 'seq2': 'condensed'}\n",
            "\n",
            "Expected Output:\n",
            "5\n",
            "\n",
            "\n",
            "Actual Output:\n",
            "5\n",
            "\n",
            "Execution Time:\n",
            "0.055 ms\n",
            "\n",
            "Test Result:\n",
            "\u001b[92mPASSED\u001b[0m\n",
            "\n",
            "\n",
            "\u001b[1mTEST CASE #5\u001b[0m\n",
            "\n",
            "Input:\n",
            "{'seq1': '', 'seq2': 'opkpoiklklj'}\n",
            "\n",
            "Expected Output:\n",
            "0\n",
            "\n",
            "\n",
            "Actual Output:\n",
            "0\n",
            "\n",
            "Execution Time:\n",
            "0.008 ms\n",
            "\n",
            "Test Result:\n",
            "\u001b[92mPASSED\u001b[0m\n",
            "\n",
            "\n",
            "\u001b[1mTEST CASE #6\u001b[0m\n",
            "\n",
            "Input:\n",
            "{'seq1': '', 'seq2': ''}\n",
            "\n",
            "Expected Output:\n",
            "0\n",
            "\n",
            "\n",
            "Actual Output:\n",
            "0\n",
            "\n",
            "Execution Time:\n",
            "0.006 ms\n",
            "\n",
            "Test Result:\n",
            "\u001b[92mPASSED\u001b[0m\n",
            "\n",
            "\n",
            "\u001b[1mTEST CASE #7\u001b[0m\n",
            "\n",
            "Input:\n",
            "{'seq1': 'abcdef', 'seq2': 'badcfe'}\n",
            "\n",
            "Expected Output:\n",
            "3\n",
            "\n",
            "\n",
            "Actual Output:\n",
            "3\n",
            "\n",
            "Execution Time:\n",
            "0.041 ms\n",
            "\n",
            "Test Result:\n",
            "\u001b[92mPASSED\u001b[0m\n",
            "\n",
            "\n",
            "\u001b[1mSUMMARY\u001b[0m\n",
            "\n",
            "TOTAL: 8, \u001b[92mPASSED\u001b[0m: 8, \u001b[91mFAILED\u001b[0m: 0\n"
          ]
        },
        {
          "output_type": "execute_result",
          "data": {
            "text/plain": [
              "[(7, True, 0.164),\n",
              " (5, True, 0.089),\n",
              " (3, True, 0.044),\n",
              " (0, True, 0.108),\n",
              " (5, True, 0.055),\n",
              " (0, True, 0.008),\n",
              " (0, True, 0.006),\n",
              " (3, True, 0.041)]"
            ]
          },
          "metadata": {},
          "execution_count": 17
        }
      ],
      "source": [
        "evaluate_test_cases(lcq_dp, lcq_tests)"
      ]
    },
    {
      "cell_type": "code",
      "execution_count": 18,
      "metadata": {
        "colab": {
          "base_uri": "https://localhost:8080/"
        },
        "id": "idwKU9M2xzvV",
        "outputId": "d80c8c55-a759-4a18-ef61-422c92c9f0e3"
      },
      "outputs": [
        {
          "output_type": "stream",
          "name": "stdout",
          "text": [
            "CPU times: user 167 µs, sys: 6 µs, total: 173 µs\n",
            "Wall time: 180 µs\n"
          ]
        },
        {
          "output_type": "execute_result",
          "data": {
            "text/plain": [
              "0"
            ]
          },
          "metadata": {},
          "execution_count": 18
        }
      ],
      "source": [
        "%%time\n",
        "lcq_dp('Asdfsfafssess', 'oypiououuiuo')"
      ]
    },
    {
      "cell_type": "code",
      "execution_count": 19,
      "metadata": {
        "colab": {
          "base_uri": "https://localhost:8080/"
        },
        "id": "NZmqbsIMxzvW",
        "outputId": "80f885e9-c26f-4074-c570-c4afd78aa008"
      },
      "outputs": [
        {
          "output_type": "stream",
          "name": "stdout",
          "text": [
            "CPU times: user 169 µs, sys: 7 µs, total: 176 µs\n",
            "Wall time: 181 µs\n"
          ]
        },
        {
          "output_type": "execute_result",
          "data": {
            "text/plain": [
              "7"
            ]
          },
          "metadata": {},
          "execution_count": 19
        }
      ],
      "source": [
        "%%time\n",
        "lcq_dp('seredipitous', 'precipitation')"
      ]
    },
    {
      "cell_type": "code",
      "execution_count": 20,
      "metadata": {
        "colab": {
          "base_uri": "https://localhost:8080/"
        },
        "id": "M_R-yjrkxzvY",
        "outputId": "270dd523-57cc-4b4d-9480-9ba766f25a3b"
      },
      "outputs": [
        {
          "output_type": "stream",
          "name": "stdout",
          "text": [
            "CPU times: user 85 µs, sys: 0 ns, total: 85 µs\n",
            "Wall time: 90.6 µs\n"
          ]
        },
        {
          "output_type": "execute_result",
          "data": {
            "text/plain": [
              "3"
            ]
          },
          "metadata": {},
          "execution_count": 20
        }
      ],
      "source": [
        "%%time\n",
        "lcq_dp('longest', 'stone')"
      ]
    },
    {
      "cell_type": "code",
      "execution_count": 20,
      "metadata": {
        "id": "7QjVWGm6xzvZ"
      },
      "outputs": [],
      "source": [
        ""
      ]
    },
    {
      "cell_type": "code",
      "execution_count": 20,
      "metadata": {
        "id": "Q9j_kVIixzvb"
      },
      "outputs": [],
      "source": [
        ""
      ]
    },
    {
      "cell_type": "code",
      "execution_count": 20,
      "metadata": {
        "id": "CUN1NEiOxzvc"
      },
      "outputs": [],
      "source": [
        ""
      ]
    },
    {
      "cell_type": "code",
      "execution_count": 20,
      "metadata": {
        "id": "kHkMtJLdxzvd"
      },
      "outputs": [],
      "source": [
        ""
      ]
    },
    {
      "cell_type": "code",
      "execution_count": 20,
      "metadata": {
        "id": "K5Qi9ozbxzvd"
      },
      "outputs": [],
      "source": [
        ""
      ]
    },
    {
      "cell_type": "markdown",
      "metadata": {
        "id": "s-jR8-B7xzve"
      },
      "source": [
        "### Knapsack Solutions"
      ]
    },
    {
      "cell_type": "code",
      "execution_count": 21,
      "metadata": {
        "id": "heFcuLmhxzve"
      },
      "outputs": [],
      "source": [
        "from jovian.pythondsa import evaluate_test_cases"
      ]
    },
    {
      "cell_type": "code",
      "execution_count": 22,
      "metadata": {
        "id": "9usDtpyfxzvf"
      },
      "outputs": [],
      "source": [
        "def max_profit_recursive(capacity, weights, profits, idx=0):\n",
        "    if idx == len(weights):\n",
        "        return 0\n",
        "    if weights[idx] > capacity:\n",
        "        return max_profit_recursive(capacity, weights, profits, idx+1)\n",
        "    else:\n",
        "        return max(max_profit_recursive(capacity, weights, profits, idx+1),\n",
        "                   profits[idx] + max_profit_recursive(capacity-weights[idx], weights, profits, idx+1))"
      ]
    },
    {
      "cell_type": "code",
      "execution_count": 23,
      "metadata": {
        "scrolled": true,
        "colab": {
          "base_uri": "https://localhost:8080/"
        },
        "id": "OYQcZYkvxzvg",
        "outputId": "cb9af42b-965a-4070-e467-6e91b8b11cd7"
      },
      "outputs": [
        {
          "output_type": "stream",
          "name": "stdout",
          "text": [
            "\n",
            "\u001b[1mTEST CASE #0\u001b[0m\n",
            "\n",
            "Input:\n",
            "{'capacity': 165, 'weights': [23, 31, 29, 44, 53, 38, 63, 85, 89, 82], 'profits': [92, 57, 49, 68, 6...\n",
            "\n",
            "Expected Output:\n",
            "309\n",
            "\n",
            "\n",
            "Actual Output:\n",
            "309\n",
            "\n",
            "Execution Time:\n",
            "0.302 ms\n",
            "\n",
            "Test Result:\n",
            "\u001b[92mPASSED\u001b[0m\n",
            "\n",
            "\n",
            "\u001b[1mTEST CASE #1\u001b[0m\n",
            "\n",
            "Input:\n",
            "{'capacity': 3, 'weights': [4, 5, 6], 'profits': [1, 2, 3]}\n",
            "\n",
            "Expected Output:\n",
            "0\n",
            "\n",
            "\n",
            "Actual Output:\n",
            "0\n",
            "\n",
            "Execution Time:\n",
            "0.005 ms\n",
            "\n",
            "Test Result:\n",
            "\u001b[92mPASSED\u001b[0m\n",
            "\n",
            "\n",
            "\u001b[1mTEST CASE #2\u001b[0m\n",
            "\n",
            "Input:\n",
            "{'capacity': 4, 'weights': [4, 5, 1], 'profits': [1, 2, 3]}\n",
            "\n",
            "Expected Output:\n",
            "3\n",
            "\n",
            "\n",
            "Actual Output:\n",
            "3\n",
            "\n",
            "Execution Time:\n",
            "0.008 ms\n",
            "\n",
            "Test Result:\n",
            "\u001b[92mPASSED\u001b[0m\n",
            "\n",
            "\n",
            "\u001b[1mTEST CASE #3\u001b[0m\n",
            "\n",
            "Input:\n",
            "{'capacity': 170, 'weights': [41, 50, 49, 59, 55, 57, 60], 'profits': [442, 525, 511, 593, 546, 564,...\n",
            "\n",
            "Expected Output:\n",
            "1735\n",
            "\n",
            "\n",
            "Actual Output:\n",
            "1735\n",
            "\n",
            "Execution Time:\n",
            "0.088 ms\n",
            "\n",
            "Test Result:\n",
            "\u001b[92mPASSED\u001b[0m\n",
            "\n",
            "\n",
            "\u001b[1mTEST CASE #4\u001b[0m\n",
            "\n",
            "Input:\n",
            "{'capacity': 15, 'weights': [4, 5, 6], 'profits': [1, 2, 3]}\n",
            "\n",
            "Expected Output:\n",
            "6\n",
            "\n",
            "\n",
            "Actual Output:\n",
            "6\n",
            "\n",
            "Execution Time:\n",
            "0.014 ms\n",
            "\n",
            "Test Result:\n",
            "\u001b[92mPASSED\u001b[0m\n",
            "\n",
            "\n",
            "\u001b[1mTEST CASE #5\u001b[0m\n",
            "\n",
            "Input:\n",
            "{'capacity': 15, 'weights': [4, 5, 1, 3, 2, 5], 'profits': [2, 3, 1, 5, 4, 7]}\n",
            "\n",
            "Expected Output:\n",
            "19\n",
            "\n",
            "\n",
            "Actual Output:\n",
            "19\n",
            "\n",
            "Execution Time:\n",
            "0.083 ms\n",
            "\n",
            "Test Result:\n",
            "\u001b[92mPASSED\u001b[0m\n",
            "\n",
            "\n",
            "\u001b[1mSUMMARY\u001b[0m\n",
            "\n",
            "TOTAL: 6, \u001b[92mPASSED\u001b[0m: 6, \u001b[91mFAILED\u001b[0m: 0\n"
          ]
        },
        {
          "output_type": "execute_result",
          "data": {
            "text/plain": [
              "[(309, True, 0.302),\n",
              " (0, True, 0.005),\n",
              " (3, True, 0.008),\n",
              " (1735, True, 0.088),\n",
              " (6, True, 0.014),\n",
              " (19, True, 0.083)]"
            ]
          },
          "metadata": {},
          "execution_count": 23
        }
      ],
      "source": [
        "evaluate_test_cases(max_profit_recursive, tests)"
      ]
    },
    {
      "cell_type": "code",
      "execution_count": 23,
      "metadata": {
        "id": "RsYZVPNlxzvh"
      },
      "outputs": [],
      "source": [
        ""
      ]
    },
    {
      "cell_type": "markdown",
      "metadata": {
        "id": "FqMlf7Dqxzvi"
      },
      "source": [
        "Memoized:"
      ]
    },
    {
      "cell_type": "code",
      "execution_count": 24,
      "metadata": {
        "id": "iyvfFK_Wxzvi"
      },
      "outputs": [],
      "source": [
        "def knapsack_memo(capacity, weights, profits):\n",
        "    memo = {}\n",
        "    \n",
        "    def recurse(idx, remaining):\n",
        "        key = (idx, remaining)\n",
        "        if key in memo:\n",
        "            return memo[key]\n",
        "        elif idx == len(weights):\n",
        "            memo[key] = 0\n",
        "        elif weights[idx] > remaining:\n",
        "            memo[key] = recurse(idx+1, remaining)\n",
        "        else:\n",
        "            memo[key] = max(recurse(idx+1, remaining), \n",
        "                            profits[idx] + recurse(idx+1, remaining-weights[idx]))\n",
        "        return memo[key] \n",
        "        \n",
        "    return recurse(0, capacity)"
      ]
    },
    {
      "cell_type": "code",
      "execution_count": 25,
      "metadata": {
        "scrolled": true,
        "colab": {
          "base_uri": "https://localhost:8080/"
        },
        "id": "GEtvfOQuxzvj",
        "outputId": "9bd186bb-6f2d-4862-87cf-c77af147978d"
      },
      "outputs": [
        {
          "output_type": "stream",
          "name": "stdout",
          "text": [
            "\n",
            "\u001b[1mTEST CASE #0\u001b[0m\n",
            "\n",
            "Input:\n",
            "{'capacity': 165, 'weights': [23, 31, 29, 44, 53, 38, 63, 85, 89, 82], 'profits': [92, 57, 49, 68, 6...\n",
            "\n",
            "Expected Output:\n",
            "309\n",
            "\n",
            "\n",
            "Actual Output:\n",
            "309\n",
            "\n",
            "Execution Time:\n",
            "0.522 ms\n",
            "\n",
            "Test Result:\n",
            "\u001b[92mPASSED\u001b[0m\n",
            "\n",
            "\n",
            "\u001b[1mTEST CASE #1\u001b[0m\n",
            "\n",
            "Input:\n",
            "{'capacity': 3, 'weights': [4, 5, 6], 'profits': [1, 2, 3]}\n",
            "\n",
            "Expected Output:\n",
            "0\n",
            "\n",
            "\n",
            "Actual Output:\n",
            "0\n",
            "\n",
            "Execution Time:\n",
            "0.01 ms\n",
            "\n",
            "Test Result:\n",
            "\u001b[92mPASSED\u001b[0m\n",
            "\n",
            "\n",
            "\u001b[1mTEST CASE #2\u001b[0m\n",
            "\n",
            "Input:\n",
            "{'capacity': 4, 'weights': [4, 5, 1], 'profits': [1, 2, 3]}\n",
            "\n",
            "Expected Output:\n",
            "3\n",
            "\n",
            "\n",
            "Actual Output:\n",
            "3\n",
            "\n",
            "Execution Time:\n",
            "0.015 ms\n",
            "\n",
            "Test Result:\n",
            "\u001b[92mPASSED\u001b[0m\n",
            "\n",
            "\n",
            "\u001b[1mTEST CASE #3\u001b[0m\n",
            "\n",
            "Input:\n",
            "{'capacity': 170, 'weights': [41, 50, 49, 59, 55, 57, 60], 'profits': [442, 525, 511, 593, 546, 564,...\n",
            "\n",
            "Expected Output:\n",
            "1735\n",
            "\n",
            "\n",
            "Actual Output:\n",
            "1735\n",
            "\n",
            "Execution Time:\n",
            "0.167 ms\n",
            "\n",
            "Test Result:\n",
            "\u001b[92mPASSED\u001b[0m\n",
            "\n",
            "\n",
            "\u001b[1mTEST CASE #4\u001b[0m\n",
            "\n",
            "Input:\n",
            "{'capacity': 15, 'weights': [4, 5, 6], 'profits': [1, 2, 3]}\n",
            "\n",
            "Expected Output:\n",
            "6\n",
            "\n",
            "\n",
            "Actual Output:\n",
            "6\n",
            "\n",
            "Execution Time:\n",
            "0.022 ms\n",
            "\n",
            "Test Result:\n",
            "\u001b[92mPASSED\u001b[0m\n",
            "\n",
            "\n",
            "\u001b[1mTEST CASE #5\u001b[0m\n",
            "\n",
            "Input:\n",
            "{'capacity': 15, 'weights': [4, 5, 1, 3, 2, 5], 'profits': [2, 3, 1, 5, 4, 7]}\n",
            "\n",
            "Expected Output:\n",
            "19\n",
            "\n",
            "\n",
            "Actual Output:\n",
            "19\n",
            "\n",
            "Execution Time:\n",
            "0.099 ms\n",
            "\n",
            "Test Result:\n",
            "\u001b[92mPASSED\u001b[0m\n",
            "\n",
            "\n",
            "\u001b[1mSUMMARY\u001b[0m\n",
            "\n",
            "TOTAL: 6, \u001b[92mPASSED\u001b[0m: 6, \u001b[91mFAILED\u001b[0m: 0\n"
          ]
        },
        {
          "output_type": "execute_result",
          "data": {
            "text/plain": [
              "[(309, True, 0.522),\n",
              " (0, True, 0.01),\n",
              " (3, True, 0.015),\n",
              " (1735, True, 0.167),\n",
              " (6, True, 0.022),\n",
              " (19, True, 0.099)]"
            ]
          },
          "metadata": {},
          "execution_count": 25
        }
      ],
      "source": [
        "evaluate_test_cases(knapsack_memo, tests)"
      ]
    },
    {
      "cell_type": "code",
      "execution_count": 25,
      "metadata": {
        "id": "N9o9yOBxxzvl"
      },
      "outputs": [],
      "source": [
        ""
      ]
    },
    {
      "cell_type": "code",
      "execution_count": 25,
      "metadata": {
        "id": "kA0Q7OM4xzvl"
      },
      "outputs": [],
      "source": [
        ""
      ]
    },
    {
      "cell_type": "markdown",
      "metadata": {
        "id": "tFuid783xzvo"
      },
      "source": [
        "Dynamic programming:"
      ]
    },
    {
      "cell_type": "code",
      "execution_count": 26,
      "metadata": {
        "id": "bGUfgz5Cxzvs"
      },
      "outputs": [],
      "source": [
        "def knapsack_dp(capacity, weights, profits):\n",
        "    n = len(weights)\n",
        "    results = [[0 for _ in range(capacity+1)] for _ in range(n+1)]\n",
        "    \n",
        "    for idx in range(n):\n",
        "        for c in range(capacity+1):\n",
        "            if weights[idx] > c:\n",
        "                results[idx+1][c] = results[idx][c]\n",
        "            else:\n",
        "                results[idx+1][c] = max(results[idx][c], profits[idx] + results[idx][c-weights[idx]])\n",
        "            \n",
        "    return results[-1][-1]"
      ]
    },
    {
      "cell_type": "code",
      "execution_count": 27,
      "metadata": {
        "scrolled": true,
        "colab": {
          "base_uri": "https://localhost:8080/"
        },
        "id": "5bVh_8dqxzvw",
        "outputId": "5a5e3716-32f5-4742-8af7-12938549d5f3"
      },
      "outputs": [
        {
          "output_type": "stream",
          "name": "stdout",
          "text": [
            "\n",
            "\u001b[1mTEST CASE #0\u001b[0m\n",
            "\n",
            "Input:\n",
            "{'capacity': 165, 'weights': [23, 31, 29, 44, 53, 38, 63, 85, 89, 82], 'profits': [92, 57, 49, 68, 6...\n",
            "\n",
            "Expected Output:\n",
            "309\n",
            "\n",
            "\n",
            "Actual Output:\n",
            "309\n",
            "\n",
            "Execution Time:\n",
            "1.205 ms\n",
            "\n",
            "Test Result:\n",
            "\u001b[92mPASSED\u001b[0m\n",
            "\n",
            "\n",
            "\u001b[1mTEST CASE #1\u001b[0m\n",
            "\n",
            "Input:\n",
            "{'capacity': 3, 'weights': [4, 5, 6], 'profits': [1, 2, 3]}\n",
            "\n",
            "Expected Output:\n",
            "0\n",
            "\n",
            "\n",
            "Actual Output:\n",
            "0\n",
            "\n",
            "Execution Time:\n",
            "0.017 ms\n",
            "\n",
            "Test Result:\n",
            "\u001b[92mPASSED\u001b[0m\n",
            "\n",
            "\n",
            "\u001b[1mTEST CASE #2\u001b[0m\n",
            "\n",
            "Input:\n",
            "{'capacity': 4, 'weights': [4, 5, 1], 'profits': [1, 2, 3]}\n",
            "\n",
            "Expected Output:\n",
            "3\n",
            "\n",
            "\n",
            "Actual Output:\n",
            "3\n",
            "\n",
            "Execution Time:\n",
            "0.02 ms\n",
            "\n",
            "Test Result:\n",
            "\u001b[92mPASSED\u001b[0m\n",
            "\n",
            "\n",
            "\u001b[1mTEST CASE #3\u001b[0m\n",
            "\n",
            "Input:\n",
            "{'capacity': 170, 'weights': [41, 50, 49, 59, 55, 57, 60], 'profits': [442, 525, 511, 593, 546, 564,...\n",
            "\n",
            "Expected Output:\n",
            "1735\n",
            "\n",
            "\n",
            "Actual Output:\n",
            "1735\n",
            "\n",
            "Execution Time:\n",
            "0.972 ms\n",
            "\n",
            "Test Result:\n",
            "\u001b[92mPASSED\u001b[0m\n",
            "\n",
            "\n",
            "\u001b[1mTEST CASE #4\u001b[0m\n",
            "\n",
            "Input:\n",
            "{'capacity': 15, 'weights': [4, 5, 6], 'profits': [1, 2, 3]}\n",
            "\n",
            "Expected Output:\n",
            "6\n",
            "\n",
            "\n",
            "Actual Output:\n",
            "6\n",
            "\n",
            "Execution Time:\n",
            "0.053 ms\n",
            "\n",
            "Test Result:\n",
            "\u001b[92mPASSED\u001b[0m\n",
            "\n",
            "\n",
            "\u001b[1mTEST CASE #5\u001b[0m\n",
            "\n",
            "Input:\n",
            "{'capacity': 15, 'weights': [4, 5, 1, 3, 2, 5], 'profits': [2, 3, 1, 5, 4, 7]}\n",
            "\n",
            "Expected Output:\n",
            "19\n",
            "\n",
            "\n",
            "Actual Output:\n",
            "19\n",
            "\n",
            "Execution Time:\n",
            "0.147 ms\n",
            "\n",
            "Test Result:\n",
            "\u001b[92mPASSED\u001b[0m\n",
            "\n",
            "\n",
            "\u001b[1mSUMMARY\u001b[0m\n",
            "\n",
            "TOTAL: 6, \u001b[92mPASSED\u001b[0m: 6, \u001b[91mFAILED\u001b[0m: 0\n"
          ]
        },
        {
          "output_type": "execute_result",
          "data": {
            "text/plain": [
              "[(309, True, 1.205),\n",
              " (0, True, 0.017),\n",
              " (3, True, 0.02),\n",
              " (1735, True, 0.972),\n",
              " (6, True, 0.053),\n",
              " (19, True, 0.147)]"
            ]
          },
          "metadata": {},
          "execution_count": 27
        }
      ],
      "source": [
        "evaluate_test_cases(knapsack_dp, tests)"
      ]
    },
    {
      "cell_type": "code",
      "execution_count": 27,
      "metadata": {
        "id": "topOr_lsxzwA"
      },
      "outputs": [],
      "source": [
        ""
      ]
    },
    {
      "cell_type": "code",
      "execution_count": 27,
      "metadata": {
        "id": "TfnH4hKdxzwC"
      },
      "outputs": [],
      "source": [
        ""
      ]
    },
    {
      "cell_type": "code",
      "execution_count": 27,
      "metadata": {
        "id": "XghpZ-_NxzwD"
      },
      "outputs": [],
      "source": [
        ""
      ]
    },
    {
      "cell_type": "code",
      "execution_count": 28,
      "metadata": {
        "id": "d7LaLBgRxzwE"
      },
      "outputs": [],
      "source": [
        "import jovian"
      ]
    },
    {
      "cell_type": "code",
      "execution_count": null,
      "metadata": {
        "colab": {
          "base_uri": "https://localhost:8080/"
        },
        "id": "RFZ8IAmNxzwI",
        "outputId": "8f10573c-dec0-48b4-ead3-5f8e3d1da3a4"
      },
      "outputs": [
        {
          "output_type": "stream",
          "name": "stdout",
          "text": [
            "[jovian] Detected Colab notebook...\u001b[0m\n",
            "[jovian] Please enter your API key ( from https://jovian.ai/ ):\u001b[0m\n",
            "API KEY: "
          ]
        }
      ],
      "source": [
        "jovian.commit(filename=\"dynamic-programming-problems\")"
      ]
    },
    {
      "cell_type": "code",
      "execution_count": null,
      "metadata": {
        "id": "DUb5fF8cxzwL"
      },
      "outputs": [],
      "source": [
        ""
      ]
    }
  ],
  "metadata": {
    "kernelspec": {
      "display_name": "Python 3",
      "language": "python",
      "name": "python3"
    },
    "language_info": {
      "codemirror_mode": {
        "name": "ipython",
        "version": 3
      },
      "file_extension": ".py",
      "mimetype": "text/x-python",
      "name": "python",
      "nbconvert_exporter": "python",
      "pygments_lexer": "ipython3",
      "version": "3.6.12"
    },
    "colab": {
      "name": "dynamic-programming-problems.ipynb",
      "provenance": [],
      "include_colab_link": true
    }
  },
  "nbformat": 4,
  "nbformat_minor": 0
}